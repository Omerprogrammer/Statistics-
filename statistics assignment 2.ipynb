{
 "cells": [
  {
   "cell_type": "code",
   "execution_count": null,
   "id": "b455a390-5fea-4667-ac62-c71d0fe3e64b",
   "metadata": {},
   "outputs": [],
   "source": [
    "Q1. What are the three measures of central tendency?\n",
    "\n",
    "eman ,median & mode"
   ]
  },
  {
   "cell_type": "code",
   "execution_count": null,
   "id": "3a9b1744-f485-4f9f-9975-0b0ec5536e77",
   "metadata": {},
   "outputs": [],
   "source": [
    "Q2. What is the difference between the mean, median, and mode? How are they used to measure the\n",
    "central tendency of a dataset?\n",
    "\n",
    "\n",
    "Mean is the average of all values of dataset \n",
    "Median is the middle values in the dataset if values are arranged in order \n",
    "Mode is the value that appears msot frequently in the dataset \n",
    "\n",
    "The choice of measure of central tendency depends on the nature of the data and the purpose of the analysis.\n",
    "The mean is useful when the data is normally distributed or when the data is numerical and continuous. \n",
    "It is sensitive to extreme values or outliers in the dataset. \n",
    "The median is a better measure of central tendency when there are outliers in the data or when the data is skewed. \n",
    "The mode is useful when the data is categorical or when we are interested in the most common value."
   ]
  },
  {
   "cell_type": "code",
   "execution_count": 8,
   "id": "2b4d029e-aeaa-4ab9-b756-9bc3ee65eecd",
   "metadata": {},
   "outputs": [
    {
     "data": {
      "text/plain": [
       "177.01875"
      ]
     },
     "execution_count": 8,
     "metadata": {},
     "output_type": "execute_result"
    }
   ],
   "source": [
    "\"Q3. Measure the three measures of central tendency for the given height data:\"\n",
    "data=[178,177,176,177,178.2,178,175,179,180,175,178.9,176.2,177,172.5,178,176.5]\n",
    "import numpy as np\n",
    "np.mean(data)"
   ]
  },
  {
   "cell_type": "code",
   "execution_count": 5,
   "id": "b5bd0943-0dd2-4687-b3b6-7d84c3f16c5b",
   "metadata": {},
   "outputs": [
    {
     "data": {
      "text/plain": [
       "178"
      ]
     },
     "execution_count": 5,
     "metadata": {},
     "output_type": "execute_result"
    }
   ],
   "source": [
    "import statistics as stats\n",
    "stats.mode(data)"
   ]
  },
  {
   "cell_type": "code",
   "execution_count": 7,
   "id": "f13b6095-7b80-41b2-9ba6-93cafd296a5e",
   "metadata": {},
   "outputs": [
    {
     "data": {
      "text/plain": [
       "177.0"
      ]
     },
     "execution_count": 7,
     "metadata": {},
     "output_type": "execute_result"
    }
   ],
   "source": [
    "np.median(data)"
   ]
  },
  {
   "cell_type": "code",
   "execution_count": null,
   "id": "558ef1d0-898e-481d-9164-e3299d577a1a",
   "metadata": {},
   "outputs": [],
   "source": [
    "Q4. Find the standard deviation for the given data:\n",
    "[178,177,176,177,178.2,178,175,179,180,175,178.9,176.2,177,172.5,178,176.5]"
   ]
  },
  {
   "cell_type": "code",
   "execution_count": 12,
   "id": "1b5cbd83-24ff-49e2-b03a-e004e9f3e8d0",
   "metadata": {},
   "outputs": [
    {
     "name": "stdout",
     "output_type": "stream",
     "text": [
      "Standard deviation of the dataset is: 1.7885814036548633\n"
     ]
    }
   ],
   "source": [
    "\"Q4. Find the standard deviation for the given data:\"\n",
    "dataset=[178,177,176,177,178.2,178,175,179,180,175,178.9,176.2,177,172.5,178,176.5]\n",
    "\n",
    "import numpy as np \n",
    "std_dev=np.std(dataset)\n",
    "print(\"Standard deviation of the dataset is:\", std_dev)"
   ]
  },
  {
   "cell_type": "markdown",
   "id": "9c1f630d-aa0c-4f67-b777-e6959c7db3ac",
   "metadata": {},
   "source": [
    "Q5. How are measures of dispersion such as range, variance, and standard deviation used to describe\n",
    "the spread of a dataset? Provide an example.\n",
    "\n",
    "Range is calculated by substracting the minimum value from the maximum value of the dataset.It provides an idea of  the spread of the data,but it is highly influenced by the outliers \n",
    "\n",
    "Variance: is the average of the squared differences of each data point from the mean.A high variance indicates             that the data is spread out, while a low variance indicates that the data is \n",
    "           clustered closely around the mean\n",
    "\n",
    "Standard deviation: The standard deviation is the square root of the variance. It provides a measure of how much                    the data deviates from the mean.A high standard deviation indicates that the data is more                        spread out, while a low standard deviation indicates that the data is clustered closely                          around the mean"
   ]
  },
  {
   "cell_type": "code",
   "execution_count": 20,
   "id": "c6be160b-3f80-42bf-aa5f-f410b6c43a28",
   "metadata": {},
   "outputs": [
    {
     "data": {
      "text/plain": [
       "20.759999999999998"
      ]
     },
     "execution_count": 20,
     "metadata": {},
     "output_type": "execute_result"
    }
   ],
   "source": [
    "\"For example, suppose we have a dataset consisting of the weights (in kg) of 10 students in a class:\"\n",
    "\n",
    "wghts=[50, 52, 55, 56, 57, 58, 60, 62, 63, 65]\n",
    "max_value = max(wghts)\n",
    "min_value = min(wghts)\n",
    "\n",
    "range_of_data = max_value - min_value\n",
    "\n",
    "import numpy as np \n",
    "np.var(wghts)\n",
    "\n",
    "\"\"\"\n",
    "The variance of this dataset is approximately 20.75, which indicates that the data is clustered closely around \n",
    "the mean\n",
    "\"\"\"\n"
   ]
  },
  {
   "cell_type": "code",
   "execution_count": 21,
   "id": "4354a296-8015-4f29-a6fd-4b8aa06ab451",
   "metadata": {},
   "outputs": [
    {
     "data": {
      "text/plain": [
       "57.8"
      ]
     },
     "execution_count": 21,
     "metadata": {},
     "output_type": "execute_result"
    }
   ],
   "source": [
    "np.mean(wghts)   "
   ]
  },
  {
   "cell_type": "code",
   "execution_count": 22,
   "id": "3cbc1067-478a-4bc3-ad8c-6121f2f79578",
   "metadata": {},
   "outputs": [
    {
     "data": {
      "text/plain": [
       "4.556314299957807"
      ]
     },
     "execution_count": 22,
     "metadata": {},
     "output_type": "execute_result"
    }
   ],
   "source": [
    "np.std(wghts)"
   ]
  },
  {
   "cell_type": "code",
   "execution_count": null,
   "id": "91850734-788d-4997-88b4-ef9fd05762ab",
   "metadata": {},
   "outputs": [],
   "source": [
    "Q6. What is a Venn diagram?\n",
    "\n",
    "A Venn diagram is a graphical representation of the relationships between sets. It is composed of overlapping\n",
    "circles or other shapes that are used to represent the sets, with the overlapping regions representing the \n",
    "intersections of the sets."
   ]
  },
  {
   "cell_type": "code",
   "execution_count": null,
   "id": "1a87e93a-d05e-422b-bdf4-680566fe991e",
   "metadata": {},
   "outputs": [],
   "source": [
    "Q7. For the two given sets A = (2,3,4,5,6,7) & B = (0,2,6,8,10). Find:\n",
    "(i) A intersection B\n",
    "(ii) A ⋃ B\n",
    "\n",
    "i) (2,6)\n",
    "ii) (2,3,4,5,6,7,0,2,6,8,10)"
   ]
  },
  {
   "cell_type": "code",
   "execution_count": null,
   "id": "4c86188d-b811-4014-b4d8-386f6008d62d",
   "metadata": {},
   "outputs": [],
   "source": [
    "Q8. What do you understand about skewness in data?\n",
    "\n",
    "Skewness is a measure of the asymmetry of a probability distribution. It measures the degree to which the data\n",
    "is skewed or tilted to one side of the mean.\n",
    "\n",
    "In a symmetrical distribution, the data is evenly distributed around the mean, and the skewness is close to zero\n",
    "\n",
    "when it is right skewed then mean>median>mode converse for left skewed "
   ]
  },
  {
   "cell_type": "code",
   "execution_count": null,
   "id": "85a5128a-af93-40e5-b3f3-bd181d615ece",
   "metadata": {},
   "outputs": [],
   "source": [
    "Q9. If a data is right skewed then what will be the position of median with respect to mean?\n",
    "\n",
    "median<mean"
   ]
  },
  {
   "cell_type": "code",
   "execution_count": null,
   "id": "2bcd80c5-d47e-4b39-be77-427c923edb3c",
   "metadata": {},
   "outputs": [],
   "source": [
    "Q10. Explain the difference between covariance and correlation. How are these measures used in\n",
    "statistical analysis?\n",
    "\n",
    "Noth measure relationshipt between two variables. But they are calculated differently \n",
    "\n",
    "Covariance: is a measure of how much two variables change together. It is calculated by taking the average of \n",
    "the product of the differences between each variable and its mean. A positive covariance indicates that the\n",
    "variables tend to increase or decrease together, while a negative covariance indicates that one variable tends \n",
    "to increase when the other decreases. However, the magnitude of the covariance is difficult to interpret because\n",
    "it is sensitive to the scale of the variables.\n",
    "\n",
    "Correlation: on the other hand, is a standardized measure of the relationship between two variables.Pearson \n",
    "correlation is calculated by dividing the covariance by the product of the standard deviations of the two\n",
    "variables.Correlation values range from -1 to +1, where a correlation of +1 indicates a perfect positive\n",
    "relationship, a correlation of -1 indicates a perfect negative relationship, and a correlation of 0 indicates\n",
    "no relationship. Spearman rank correlation is calculated by taking covarience and std  wrt to rank of variables\n",
    "\n",
    "Spearmen is more accuratre than Pearson \n",
    "\n",
    "In ML models remove some of features that are not correlted with the output, significantly reducing the\n",
    "computing power\n",
    "\n",
    "In summary, covariance measures how much two variables change together, while correlation measures the strength\n",
    "and direction of the relationship between two variables, and is a preferred measure in statistical analysis due\n",
    "to its ease of interpretation."
   ]
  },
  {
   "cell_type": "code",
   "execution_count": 28,
   "id": "7d212cd7-4ecf-44a8-9e52-c89389198667",
   "metadata": {},
   "outputs": [
    {
     "data": {
      "text/plain": [
       "13.714285714285714"
      ]
     },
     "execution_count": 28,
     "metadata": {},
     "output_type": "execute_result"
    }
   ],
   "source": [
    "\"\"\"\n",
    "Q11. What is the formula for calculating the sample mean? Provide an example calculation for a\n",
    "dataset.\n",
    "\n",
    "The formula for calculating the sample mean, denoted by x̄, is:\n",
    "\n",
    "x̄ = (Σxi) / n\n",
    "\n",
    "where Σxi represents the sum of all the individual data points in the sample and n represents the total number \n",
    "of data points in the sample.\n",
    "\n",
    "For example, consider the following dataset of 7 numbers:\n",
    "\"\"\"\n",
    "datalist=[5,7, 11, 13, 18, 20, 22]\n",
    "import numpy as np\n",
    "np.mean(datalist)\n"
   ]
  },
  {
   "cell_type": "code",
   "execution_count": null,
   "id": "b11b5fd2-0c7e-47b2-b26d-5f55f634a312",
   "metadata": {},
   "outputs": [],
   "source": [
    "\n",
    "Q12. For a normal distribution data what is the relationship between its measure of central tendency?\n",
    "\n",
    "For a normal distribution, the three measures of central tendency - mean, median, and mode - are equal. \n",
    "This is because the normal distribution is symmetrical, with equal frequencies of values on either side of the\n",
    "mean."
   ]
  },
  {
   "cell_type": "code",
   "execution_count": null,
   "id": "0605f0c0-ccf8-4897-bbc6-ef21b8f12b02",
   "metadata": {},
   "outputs": [],
   "source": [
    "Q12. For a normal distribution data what is the relationship between its measure of central tendency?\n",
    "\n",
    "refer Q10"
   ]
  },
  {
   "cell_type": "code",
   "execution_count": 29,
   "id": "5c45c877-b382-4c0f-b578-b0a80c439eec",
   "metadata": {},
   "outputs": [
    {
     "ename": "SyntaxError",
     "evalue": "invalid syntax (3188493980.py, line 1)",
     "output_type": "error",
     "traceback": [
      "\u001b[0;36m  Cell \u001b[0;32mIn[29], line 1\u001b[0;36m\u001b[0m\n\u001b[0;31m    Q14. How do outliers affect measures of central tendency and dispersion? Provide an example.\u001b[0m\n\u001b[0m             ^\u001b[0m\n\u001b[0;31mSyntaxError\u001b[0m\u001b[0;31m:\u001b[0m invalid syntax\n"
     ]
    }
   ],
   "source": [
    "Q14. How do outliers affect measures of central tendency and dispersion? Provide an example.\n",
    "\n",
    "Outliers can significantly affect measures of central tendency and dispersion. A single outlier that is\n",
    "significantly higher or lower than the rest of the data can shift the mean, median, and mode to one side, \n",
    "making them less representative of the majority of the data. Outliers can also inflate or deflate the variance\n",
    "and standard deviation, making the spread of the data appear larger or smaller than it actually is.\n",
    "Meidan is the leat effected one with outliars,  while mean and mode are most vulnerable."
   ]
  },
  {
   "cell_type": "code",
   "execution_count": 38,
   "id": "caa22cf6-e217-4332-8d39-485e37422cc7",
   "metadata": {},
   "outputs": [
    {
     "data": {
      "text/plain": [
       "27.3"
      ]
     },
     "execution_count": 38,
     "metadata": {},
     "output_type": "execute_result"
    }
   ],
   "source": [
    "#For example, consider the following dataset of ages of a group of people:\n",
    "\n",
    "ag=[20, 23, 24, 26, 27, 28, 29, 30, 31, 35]\n",
    "import numpy as np\n",
    "np.mean(ag)"
   ]
  },
  {
   "cell_type": "code",
   "execution_count": 32,
   "id": "265c2a10-725d-4492-990c-ac0dbd513d0c",
   "metadata": {},
   "outputs": [
    {
     "data": {
      "text/plain": [
       "27.5"
      ]
     },
     "execution_count": 32,
     "metadata": {},
     "output_type": "execute_result"
    }
   ],
   "source": [
    "np.median(ag)"
   ]
  },
  {
   "cell_type": "code",
   "execution_count": 35,
   "id": "322371c8-b516-4eec-a60c-899c28a54e74",
   "metadata": {},
   "outputs": [
    {
     "data": {
      "text/plain": [
       "20"
      ]
     },
     "execution_count": 35,
     "metadata": {},
     "output_type": "execute_result"
    }
   ],
   "source": [
    "import statistics as stats\n",
    "stats.mode(ag)"
   ]
  },
  {
   "cell_type": "code",
   "execution_count": 36,
   "id": "7b617ce8-48f0-486e-ad75-fd6dc5b3f4c6",
   "metadata": {},
   "outputs": [
    {
     "data": {
      "text/plain": [
       "4.1"
      ]
     },
     "execution_count": 36,
     "metadata": {},
     "output_type": "execute_result"
    }
   ],
   "source": [
    "np.std(ag)"
   ]
  },
  {
   "cell_type": "code",
   "execution_count": 37,
   "id": "1f9f71dd-d6c9-4b3e-83f9-70504b0a7413",
   "metadata": {},
   "outputs": [
    {
     "data": {
      "text/plain": [
       "16.81"
      ]
     },
     "execution_count": 37,
     "metadata": {},
     "output_type": "execute_result"
    }
   ],
   "source": [
    "np.std(ag)"
   ]
  },
  {
   "cell_type": "code",
   "execution_count": 45,
   "id": "4ea7d37a-595c-4816-844c-a4f859b9aa71",
   "metadata": {},
   "outputs": [
    {
     "data": {
      "text/plain": [
       "43.0"
      ]
     },
     "execution_count": 45,
     "metadata": {},
     "output_type": "execute_result"
    }
   ],
   "source": [
    "#Now, suppose we add an outlier to this dataset:\n",
    "\n",
    "ag=[20, 23, 24, 26, 27, 28, 29, 30, 31, 35, 200]\n",
    "import numpy as np\n",
    "np.mean(ag)"
   ]
  },
  {
   "cell_type": "code",
   "execution_count": 46,
   "id": "19e4f95f-379a-4e7b-84b7-0493bfe9fb89",
   "metadata": {},
   "outputs": [
    {
     "data": {
      "text/plain": [
       "28.0"
      ]
     },
     "execution_count": 46,
     "metadata": {},
     "output_type": "execute_result"
    }
   ],
   "source": [
    "np.median(ag)"
   ]
  },
  {
   "cell_type": "code",
   "execution_count": 47,
   "id": "a3106290-c7d2-4950-a8e1-b0b1cd11d505",
   "metadata": {},
   "outputs": [
    {
     "data": {
      "text/plain": [
       "49.801423856972384"
      ]
     },
     "execution_count": 47,
     "metadata": {},
     "output_type": "execute_result"
    }
   ],
   "source": [
    "np.std(ag)"
   ]
  },
  {
   "cell_type": "code",
   "execution_count": 48,
   "id": "f7684da0-dae6-4367-ab5b-3ea03e81c0e5",
   "metadata": {},
   "outputs": [
    {
     "data": {
      "text/plain": [
       "49.801423856972384"
      ]
     },
     "execution_count": 48,
     "metadata": {},
     "output_type": "execute_result"
    }
   ],
   "source": [
    "np.std(ag)"
   ]
  },
  {
   "cell_type": "code",
   "execution_count": null,
   "id": "51c0a5e5-bfba-49a1-bd22-a0a3493cffa6",
   "metadata": {},
   "outputs": [],
   "source": [
    "We can see that the mean has increased significantly due to the outlier, while the median has remained unchanged\n",
    "The standard deviation has increased significantly due to the larger spread caused by the outlier.\n",
    "Therefore, outliers can have a significant impact on measures of central tendency and dispersion, and it is important to identify and handle them appropriately in statistical analysis"
   ]
  }
 ],
 "metadata": {
  "kernelspec": {
   "display_name": "Python 3 (ipykernel)",
   "language": "python",
   "name": "python3"
  },
  "language_info": {
   "codemirror_mode": {
    "name": "ipython",
    "version": 3
   },
   "file_extension": ".py",
   "mimetype": "text/x-python",
   "name": "python",
   "nbconvert_exporter": "python",
   "pygments_lexer": "ipython3",
   "version": "3.10.8"
  }
 },
 "nbformat": 4,
 "nbformat_minor": 5
}

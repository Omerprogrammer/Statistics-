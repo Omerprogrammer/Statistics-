{
 "cells": [
  {
   "cell_type": "markdown",
   "id": "828d14b7-d671-4483-a0a4-ebba082a186f",
   "metadata": {},
   "source": [
    "\"\"\"Q1. What is Statistics?\"\"\"\n",
    "ans: Statistics is a the science of collecting ,organising and analyzing the data"
   ]
  },
  {
   "cell_type": "markdown",
   "id": "16b65fea-fd1a-4868-ad28-643fa1751cd5",
   "metadata": {},
   "source": [
    "\"Q2. Define the different types of statistics and give an example of when each type might be used.\"\n",
    "\n",
    "ans: \"\"Descrptive stats\"\"\"\n",
    "      consist of organising & summarizing the data \n",
    "      ex;measure of cnetral tendancy\n",
    "      \n",
    "     \"\"Infrential stats\"\"\n",
    "     consist of forming conclusions form the measured data\n",
    "     ex;z-test"
   ]
  },
  {
   "cell_type": "markdown",
   "id": "89743b27-68ef-4d21-ba96-ee23931d370c",
   "metadata": {},
   "source": [
    "Q3. What are the different types of data and how do they differ from each other? Provide an example of\n",
    "each type of data.\n",
    "\n",
    "Data can be divided to two types that is 1)Quantitative 2)Qualitative \n",
    "\n",
    "Quantitative is numerical data while Qualitative is categorical data \n",
    "\n",
    "1)whole no   2) gender\n",
    "\n",
    "\n"
   ]
  },
  {
   "cell_type": "markdown",
   "id": "b5e0ecda-c9f2-41b3-ac76-0633ed4cb301",
   "metadata": {},
   "source": [
    "Q4. Categorise the following datasets with respect to quantitative and qualitative data types:\n",
    "(i) Grading in exam: A+, A, B+, B, C+, C, D, E\n",
    "(ii) Colour of mangoes: yellow, green, orange, red\n",
    "(iii) Height data of a class: [178.9, 179, 179.5, 176, 177.2, 178.3, 175.8,...]\n",
    "(iv) Number of mangoes exported by a farm: [500, 600, 478, 672, ...]\n",
    "\n",
    "let Qualitative=a and quantitative=b\n",
    "i)a ii)a iii)b iv)b\n"
   ]
  },
  {
   "cell_type": "markdown",
   "id": "c4a486c0-40e4-4db8-b164-308cc9f2bd14",
   "metadata": {},
   "source": [
    "Q5. Explain the concept of levels of measurement and give an example of a variable for each level.\n",
    "\n",
    "it refers to the  different ways in which var can be classified and measured\n",
    "threr are 4 types 1)Nominal 2)Ordinal 3)Internal 4)Ratio \n",
    "\n",
    "1)religion 2)grades 3)IQ 4)height\n"
   ]
  },
  {
   "cell_type": "markdown",
   "id": "0f99750d-5d2d-4fb2-b684-ac95f803d338",
   "metadata": {},
   "source": [
    "Q6. Why is it important to understand the level of measurement when analyzing data? Provide an\n",
    "example to illustrate your answer.\n",
    "\n",
    "it is important to understand the level of measurement when analyzing data because it determines \n",
    "which statistical methods are appropriate to use so that we can get meaningfull and acurrate\n",
    "insights of that data\n",
    "\n",
    "\n",
    " foe exmaple income levels at interval levels and nominal levels will give diff insights about the data "
   ]
  },
  {
   "cell_type": "markdown",
   "id": "d90c6050-d536-406d-baec-c9175e877752",
   "metadata": {},
   "source": [
    "Q7. How nominal data type is different from ordinal data type.\n",
    "\n",
    "\n",
    "the main difference between nominal and ordinal data is that nominal data has no inherent order or ranking\n",
    "among the categories,\n",
    "while ordinal data has a logical order or sequence among the categories\n"
   ]
  },
  {
   "cell_type": "markdown",
   "id": "61989873-f516-4a8a-992d-74376fdc4679",
   "metadata": {},
   "source": [
    "Q8. Which type of plot can be used to display data in terms of range?\n",
    "\n",
    "A box plot"
   ]
  },
  {
   "cell_type": "markdown",
   "id": "9c9c3a15-d1b8-4500-b2f1-7a13b0e09e9a",
   "metadata": {},
   "source": [
    "Q9. Describe the difference between descriptive and inferential statistics. Give an example of each\n",
    "type of statistics and explain how they are used.\n",
    "\n",
    "\n",
    "Descriptive statistics are used to describe and summarize data, while inferential statistics are used to make\n",
    "predictions and inferences about a larger population based on a sample of data.\n",
    "\n",
    "If we want to describe the heights of a group of students, we can calculate the mean, median, and\n",
    "standard deviation of their heights. This will give us an idea of the typical height, the range of heights, and\n",
    "how much the heights vary from the average.\n",
    "\n",
    "We can use this data to gain inferences about the hieght of all college  students in a country which is called\n",
    "infrential statistics\n"
   ]
  },
  {
   "cell_type": "markdown",
   "id": "6417392f-ed88-4c08-ac4e-cc4cc0704102",
   "metadata": {},
   "source": [
    "Q10. What are some common measures of central tendency and variability used in statistics? Explain\n",
    "how each measure can be used to describe a dataset.\n",
    "\n",
    "Mean: avg of all data \n",
    "Median : middle value in data set \n",
    "mode : most repetitive value "
   ]
  }
 ],
 "metadata": {
  "kernelspec": {
   "display_name": "Python 3 (ipykernel)",
   "language": "python",
   "name": "python3"
  },
  "language_info": {
   "codemirror_mode": {
    "name": "ipython",
    "version": 3
   },
   "file_extension": ".py",
   "mimetype": "text/x-python",
   "name": "python",
   "nbconvert_exporter": "python",
   "pygments_lexer": "ipython3",
   "version": "3.10.8"
  }
 },
 "nbformat": 4,
 "nbformat_minor": 5
}
